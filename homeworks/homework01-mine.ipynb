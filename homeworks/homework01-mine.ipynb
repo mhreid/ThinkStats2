{
 "cells": [
  {
   "cell_type": "markdown",
   "metadata": {},
   "source": [
    "# Homework 1\n",
    "\n",
    "Load and validate GSS data\n",
    "\n",
    "Allen Downey\n",
    "\n",
    "[MIT License](https://en.wikipedia.org/wiki/MIT_License)"
   ]
  },
  {
   "cell_type": "code",
   "execution_count": 141,
   "metadata": {
    "collapsed": true
   },
   "outputs": [],
   "source": [
    "%matplotlib inline\n",
    "\n",
    "import pandas as pd\n",
    "import numpy as np\n",
    "\n",
    "import matplotlib.pyplot as plt\n",
    "import seaborn as sns\n",
    "sns.set(style='white')\n",
    "\n",
    "import utils\n",
    "from utils import decorate\n",
    "from thinkstats2 import Pmf, Cdf"
   ]
  },
  {
   "cell_type": "markdown",
   "metadata": {},
   "source": [
    "## Loading and validation\n"
   ]
  },
  {
   "cell_type": "code",
   "execution_count": 142,
   "metadata": {
    "collapsed": true
   },
   "outputs": [],
   "source": [
    "def read_gss(dirname):\n",
    "    \"\"\"Reads GSS files from the given directory.\n",
    "    \n",
    "    dirname: string\n",
    "    \n",
    "    returns: DataFrame\n",
    "    \"\"\"\n",
    "    dct = utils.read_stata_dict(dirname + '/GSS.dct')\n",
    "    gss = dct.read_fixed_width(dirname + '/GSS.dat.gz',\n",
    "                             compression='gzip')\n",
    "    return gss"
   ]
  },
  {
   "cell_type": "markdown",
   "metadata": {},
   "source": [
    "Read the variables I selected from the GSS dataset.  You can look up these variables at https://gssdataexplorer.norc.org/variables/vfilter"
   ]
  },
  {
   "cell_type": "code",
   "execution_count": 143,
   "metadata": {},
   "outputs": [
    {
     "name": "stdout",
     "output_type": "stream",
     "text": [
      "(62466, 101)\n"
     ]
    },
    {
     "data": {
      "text/html": [
       "<div>\n",
       "<style>\n",
       "    .dataframe thead tr:only-child th {\n",
       "        text-align: right;\n",
       "    }\n",
       "\n",
       "    .dataframe thead th {\n",
       "        text-align: left;\n",
       "    }\n",
       "\n",
       "    .dataframe tbody tr th {\n",
       "        vertical-align: top;\n",
       "    }\n",
       "</style>\n",
       "<table border=\"1\" class=\"dataframe\">\n",
       "  <thead>\n",
       "    <tr style=\"text-align: right;\">\n",
       "      <th></th>\n",
       "      <th>year</th>\n",
       "      <th>id_</th>\n",
       "      <th>agewed</th>\n",
       "      <th>divorce</th>\n",
       "      <th>sibs</th>\n",
       "      <th>childs</th>\n",
       "      <th>age</th>\n",
       "      <th>educ</th>\n",
       "      <th>paeduc</th>\n",
       "      <th>maeduc</th>\n",
       "      <th>...</th>\n",
       "      <th>memchurh</th>\n",
       "      <th>realinc</th>\n",
       "      <th>cohort</th>\n",
       "      <th>marcohrt</th>\n",
       "      <th>ballot</th>\n",
       "      <th>wtssall</th>\n",
       "      <th>adults</th>\n",
       "      <th>compuse</th>\n",
       "      <th>databank</th>\n",
       "      <th>wtssnr</th>\n",
       "    </tr>\n",
       "  </thead>\n",
       "  <tbody>\n",
       "    <tr>\n",
       "      <th>0</th>\n",
       "      <td>1972</td>\n",
       "      <td>1</td>\n",
       "      <td>0</td>\n",
       "      <td>0</td>\n",
       "      <td>3</td>\n",
       "      <td>0</td>\n",
       "      <td>23</td>\n",
       "      <td>16</td>\n",
       "      <td>10</td>\n",
       "      <td>97</td>\n",
       "      <td>...</td>\n",
       "      <td>0</td>\n",
       "      <td>18951.0</td>\n",
       "      <td>1949</td>\n",
       "      <td>0</td>\n",
       "      <td>0</td>\n",
       "      <td>0.4446</td>\n",
       "      <td>1</td>\n",
       "      <td>0</td>\n",
       "      <td>0</td>\n",
       "      <td>1.0</td>\n",
       "    </tr>\n",
       "    <tr>\n",
       "      <th>1</th>\n",
       "      <td>1972</td>\n",
       "      <td>2</td>\n",
       "      <td>21</td>\n",
       "      <td>2</td>\n",
       "      <td>4</td>\n",
       "      <td>5</td>\n",
       "      <td>70</td>\n",
       "      <td>10</td>\n",
       "      <td>8</td>\n",
       "      <td>8</td>\n",
       "      <td>...</td>\n",
       "      <td>0</td>\n",
       "      <td>24366.0</td>\n",
       "      <td>1902</td>\n",
       "      <td>1923</td>\n",
       "      <td>0</td>\n",
       "      <td>0.8893</td>\n",
       "      <td>2</td>\n",
       "      <td>0</td>\n",
       "      <td>0</td>\n",
       "      <td>1.0</td>\n",
       "    </tr>\n",
       "    <tr>\n",
       "      <th>2</th>\n",
       "      <td>1972</td>\n",
       "      <td>3</td>\n",
       "      <td>20</td>\n",
       "      <td>2</td>\n",
       "      <td>5</td>\n",
       "      <td>4</td>\n",
       "      <td>48</td>\n",
       "      <td>12</td>\n",
       "      <td>8</td>\n",
       "      <td>8</td>\n",
       "      <td>...</td>\n",
       "      <td>0</td>\n",
       "      <td>24366.0</td>\n",
       "      <td>1924</td>\n",
       "      <td>1944</td>\n",
       "      <td>0</td>\n",
       "      <td>0.8893</td>\n",
       "      <td>2</td>\n",
       "      <td>0</td>\n",
       "      <td>0</td>\n",
       "      <td>1.0</td>\n",
       "    </tr>\n",
       "    <tr>\n",
       "      <th>3</th>\n",
       "      <td>1972</td>\n",
       "      <td>4</td>\n",
       "      <td>24</td>\n",
       "      <td>2</td>\n",
       "      <td>5</td>\n",
       "      <td>0</td>\n",
       "      <td>27</td>\n",
       "      <td>17</td>\n",
       "      <td>16</td>\n",
       "      <td>12</td>\n",
       "      <td>...</td>\n",
       "      <td>0</td>\n",
       "      <td>30458.0</td>\n",
       "      <td>1945</td>\n",
       "      <td>1969</td>\n",
       "      <td>0</td>\n",
       "      <td>0.8893</td>\n",
       "      <td>2</td>\n",
       "      <td>0</td>\n",
       "      <td>0</td>\n",
       "      <td>1.0</td>\n",
       "    </tr>\n",
       "    <tr>\n",
       "      <th>4</th>\n",
       "      <td>1972</td>\n",
       "      <td>5</td>\n",
       "      <td>22</td>\n",
       "      <td>2</td>\n",
       "      <td>2</td>\n",
       "      <td>2</td>\n",
       "      <td>61</td>\n",
       "      <td>12</td>\n",
       "      <td>8</td>\n",
       "      <td>8</td>\n",
       "      <td>...</td>\n",
       "      <td>0</td>\n",
       "      <td>50763.0</td>\n",
       "      <td>1911</td>\n",
       "      <td>1933</td>\n",
       "      <td>0</td>\n",
       "      <td>0.8893</td>\n",
       "      <td>2</td>\n",
       "      <td>0</td>\n",
       "      <td>0</td>\n",
       "      <td>1.0</td>\n",
       "    </tr>\n",
       "  </tbody>\n",
       "</table>\n",
       "<p>5 rows × 101 columns</p>\n",
       "</div>"
      ],
      "text/plain": [
       "   year  id_  agewed  divorce  sibs  childs  age  educ  paeduc  maeduc  \\\n",
       "0  1972    1       0        0     3       0   23    16      10      97   \n",
       "1  1972    2      21        2     4       5   70    10       8       8   \n",
       "2  1972    3      20        2     5       4   48    12       8       8   \n",
       "3  1972    4      24        2     5       0   27    17      16      12   \n",
       "4  1972    5      22        2     2       2   61    12       8       8   \n",
       "\n",
       "    ...    memchurh  realinc  cohort  marcohrt  ballot  wtssall  adults  \\\n",
       "0   ...           0  18951.0    1949         0       0   0.4446       1   \n",
       "1   ...           0  24366.0    1902      1923       0   0.8893       2   \n",
       "2   ...           0  24366.0    1924      1944       0   0.8893       2   \n",
       "3   ...           0  30458.0    1945      1969       0   0.8893       2   \n",
       "4   ...           0  50763.0    1911      1933       0   0.8893       2   \n",
       "\n",
       "   compuse  databank  wtssnr  \n",
       "0        0         0     1.0  \n",
       "1        0         0     1.0  \n",
       "2        0         0     1.0  \n",
       "3        0         0     1.0  \n",
       "4        0         0     1.0  \n",
       "\n",
       "[5 rows x 101 columns]"
      ]
     },
     "execution_count": 143,
     "metadata": {},
     "output_type": "execute_result"
    }
   ],
   "source": [
    "gss = read_gss('gss_eda')\n",
    "print(gss.shape)\n",
    "gss.head()"
   ]
  },
  {
   "cell_type": "markdown",
   "metadata": {},
   "source": [
    "Most variables use special codes to indicate missing data.  We have to be careful not to use these codes as numerical data; one way to manage that is to replace them with `NaN`, which Pandas recognizes as a missing value."
   ]
  },
  {
   "cell_type": "code",
   "execution_count": 144,
   "metadata": {
    "collapsed": true
   },
   "outputs": [],
   "source": [
    "def replace_invalid(df):\n",
    "    df.realinc.replace([0], np.nan, inplace=True)                  \n",
    "    df.educ.replace([98,99], np.nan, inplace=True)\n",
    "    # 89 means 89 or older\n",
    "    df.age.replace([98, 99], np.nan, inplace=True) \n",
    "    df.cohort.replace([9999], np.nan, inplace=True)\n",
    "    df.adults.replace([9], np.nan, inplace=True)\n",
    "\n",
    "replace_invalid(gss)"
   ]
  },
  {
   "cell_type": "markdown",
   "metadata": {},
   "source": [
    "Here are summary statistics for the variables I have validated and cleaned."
   ]
  },
  {
   "cell_type": "code",
   "execution_count": 145,
   "metadata": {},
   "outputs": [
    {
     "name": "stdout",
     "output_type": "stream",
     "text": [
      "count    62466.000000\n",
      "mean      1994.072359\n",
      "std         12.937941\n",
      "min       1972.000000\n",
      "25%       1984.000000\n",
      "50%       1994.000000\n",
      "75%       2006.000000\n",
      "max       2016.000000\n",
      "Name: year, dtype: float64\n",
      "2006    4510\n",
      "1994    2992\n",
      "1996    2904\n",
      "2016    2867\n",
      "1998    2832\n",
      "2000    2817\n",
      "2004    2812\n",
      "2002    2765\n",
      "2014    2538\n",
      "2010    2044\n",
      "2008    2023\n",
      "2012    1974\n",
      "1982    1860\n",
      "1987    1819\n",
      "1972    1613\n",
      "1993    1606\n",
      "1983    1599\n",
      "1989    1537\n",
      "1985    1534\n",
      "1978    1532\n",
      "1977    1530\n",
      "1991    1517\n",
      "1973    1504\n",
      "1976    1499\n",
      "1975    1490\n",
      "1974    1484\n",
      "1988    1481\n",
      "1984    1473\n",
      "1986    1470\n",
      "1980    1468\n",
      "1990    1372\n",
      "Name: year, dtype: int64\n"
     ]
    }
   ],
   "source": [
    "print(gss['year'].describe())\n",
    "print(gss['year'].value_counts(sort = True))"
   ]
  },
  {
   "cell_type": "code",
   "execution_count": 146,
   "metadata": {},
   "outputs": [
    {
     "name": "stdout",
     "output_type": "stream",
     "text": [
      "count    62466.000000\n",
      "mean         1.558768\n",
      "std          0.496538\n",
      "min          1.000000\n",
      "25%          1.000000\n",
      "50%          2.000000\n",
      "75%          2.000000\n",
      "max          2.000000\n",
      "Name: sex, dtype: float64\n",
      "2    34904\n",
      "1    27562\n",
      "Name: sex, dtype: int64\n"
     ]
    }
   ],
   "source": [
    "print(gss['sex'].describe())\n",
    "print(gss['sex'].value_counts())"
   ]
  },
  {
   "cell_type": "code",
   "execution_count": 147,
   "metadata": {},
   "outputs": [
    {
     "name": "stdout",
     "output_type": "stream",
     "text": [
      "count    62245.000000\n",
      "mean        45.991341\n",
      "std         17.505563\n",
      "min         18.000000\n",
      "25%         31.000000\n",
      "50%         44.000000\n",
      "75%         59.000000\n",
      "max         89.000000\n",
      "Name: age, dtype: float64\n",
      "30.0    1400\n",
      "32.0    1388\n",
      "28.0    1387\n",
      "34.0    1357\n",
      "27.0    1352\n",
      "35.0    1343\n",
      "25.0    1335\n",
      "33.0    1333\n",
      "36.0    1322\n",
      "37.0    1317\n",
      "38.0    1312\n",
      "31.0    1306\n",
      "26.0    1305\n",
      "29.0    1284\n",
      "40.0    1246\n",
      "23.0    1209\n",
      "43.0    1201\n",
      "41.0    1182\n",
      "39.0    1181\n",
      "24.0    1175\n",
      "42.0    1161\n",
      "44.0    1134\n",
      "49.0    1091\n",
      "46.0    1081\n",
      "47.0    1074\n",
      "48.0    1067\n",
      "45.0    1062\n",
      "22.0    1042\n",
      "51.0    1026\n",
      "50.0    1020\n",
      "        ... \n",
      "19.0     835\n",
      "63.0     806\n",
      "61.0     803\n",
      "65.0     780\n",
      "67.0     773\n",
      "66.0     713\n",
      "64.0     703\n",
      "68.0     698\n",
      "70.0     674\n",
      "69.0     648\n",
      "72.0     594\n",
      "71.0     591\n",
      "74.0     564\n",
      "73.0     532\n",
      "76.0     488\n",
      "75.0     481\n",
      "77.0     449\n",
      "78.0     422\n",
      "79.0     367\n",
      "89.0     335\n",
      "80.0     325\n",
      "81.0     320\n",
      "82.0     267\n",
      "83.0     253\n",
      "18.0     219\n",
      "84.0     216\n",
      "85.0     185\n",
      "86.0     172\n",
      "87.0     143\n",
      "88.0     113\n",
      "Name: age, Length: 72, dtype: int64\n"
     ]
    }
   ],
   "source": [
    "print(gss['age'].describe())\n",
    "print(gss['age'].value_counts(sort = True))"
   ]
  },
  {
   "cell_type": "code",
   "execution_count": 148,
   "metadata": {},
   "outputs": [
    {
     "name": "stdout",
     "output_type": "stream",
     "text": [
      "1956.0    1340\n",
      "1951.0    1332\n",
      "1952.0    1329\n",
      "1947.0    1328\n",
      "1953.0    1325\n",
      "1958.0    1314\n",
      "1957.0    1304\n",
      "1955.0    1271\n",
      "1954.0    1267\n",
      "1948.0    1259\n",
      "1950.0    1243\n",
      "1959.0    1227\n",
      "1960.0    1154\n",
      "1949.0    1152\n",
      "1961.0    1132\n",
      "1946.0    1092\n",
      "1964.0    1039\n",
      "1962.0    1034\n",
      "1963.0    1031\n",
      "1944.0    1008\n",
      "1943.0    1003\n",
      "1945.0     946\n",
      "1942.0     939\n",
      "1965.0     930\n",
      "1966.0     850\n",
      "1941.0     832\n",
      "1968.0     832\n",
      "1970.0     803\n",
      "1940.0     793\n",
      "1939.0     787\n",
      "          ... \n",
      "1903.0     173\n",
      "1902.0     163\n",
      "1991.0     141\n",
      "1901.0     138\n",
      "1990.0     134\n",
      "1900.0     130\n",
      "1899.0     123\n",
      "1898.0     105\n",
      "1993.0      93\n",
      "1992.0      92\n",
      "1994.0      82\n",
      "1896.0      73\n",
      "1897.0      72\n",
      "1894.0      61\n",
      "1995.0      58\n",
      "1895.0      55\n",
      "1893.0      34\n",
      "1997.0      34\n",
      "1996.0      32\n",
      "1892.0      31\n",
      "1891.0      27\n",
      "1890.0      27\n",
      "1889.0      21\n",
      "1887.0      13\n",
      "1888.0      10\n",
      "1885.0       7\n",
      "1998.0       7\n",
      "1886.0       4\n",
      "1884.0       3\n",
      "1883.0       2\n",
      "Name: cohort, Length: 116, dtype: int64\n"
     ]
    }
   ],
   "source": [
    "gss['cohort'].describe()\n",
    "print(gss['cohort'].value_counts(sort = True))"
   ]
  },
  {
   "cell_type": "code",
   "execution_count": 149,
   "metadata": {},
   "outputs": [
    {
     "name": "stdout",
     "output_type": "stream",
     "text": [
      "1    50340\n",
      "2     8802\n",
      "3     3324\n",
      "Name: race, dtype: int64\n"
     ]
    }
   ],
   "source": [
    "gss['race'].describe()\n",
    "print(gss['race'].value_counts())"
   ]
  },
  {
   "cell_type": "code",
   "execution_count": 150,
   "metadata": {},
   "outputs": [
    {
     "name": "stdout",
     "output_type": "stream",
     "text": [
      "count    62292.000000\n",
      "mean        12.837234\n",
      "std          3.179130\n",
      "min          0.000000\n",
      "25%         12.000000\n",
      "50%         12.000000\n",
      "75%         15.000000\n",
      "max         20.000000\n",
      "Name: educ, dtype: float64\n",
      "12.0    19006\n",
      "16.0     7925\n",
      "14.0     6847\n",
      "13.0     5177\n",
      "11.0     3648\n",
      "10.0     2815\n",
      "15.0     2783\n",
      "8.0      2689\n",
      "18.0     2265\n",
      "9.0      2032\n",
      "17.0     1870\n",
      "20.0     1367\n",
      "19.0      875\n",
      "7.0       871\n",
      "6.0       808\n",
      "5.0       399\n",
      "4.0       314\n",
      "3.0       247\n",
      "0.0       161\n",
      "2.0       148\n",
      "1.0        45\n",
      "Name: educ, dtype: int64\n"
     ]
    }
   ],
   "source": [
    "print(gss['educ'].describe())\n",
    "print(gss['educ'].value_counts())"
   ]
  },
  {
   "cell_type": "code",
   "execution_count": 151,
   "metadata": {},
   "outputs": [
    {
     "name": "stdout",
     "output_type": "stream",
     "text": [
      "count     56141.000000\n",
      "mean      31636.199666\n",
      "std       29402.370825\n",
      "min         234.000000\n",
      "25%       12080.625000\n",
      "50%       24097.500000\n",
      "75%       39022.500000\n",
      "max      162607.000000\n",
      "Name: realinc, dtype: float64\n",
      "25582.500000     394\n",
      "38373.750000     360\n",
      "32761.000000     348\n",
      "27793.000000     345\n",
      "31267.500000     332\n",
      "94853.000000     329\n",
      "30841.000000     326\n",
      "25465.000000     310\n",
      "34380.000000     308\n",
      "128434.605938    295\n",
      "46901.250000     284\n",
      "45866.000000     272\n",
      "99956.000000     271\n",
      "56647.000000     269\n",
      "31005.000000     264\n",
      "32625.000000     259\n",
      "31590.000000     258\n",
      "31668.000000     251\n",
      "28156.500000     245\n",
      "40756.500000     244\n",
      "34078.000000     242\n",
      "18476.250000     231\n",
      "39875.000000     231\n",
      "36167.000000     230\n",
      "137237.765589    230\n",
      "33209.000000     229\n",
      "56850.000000     229\n",
      "42020.000000     227\n",
      "31927.500000     227\n",
      "36575.000000     222\n",
      "                ... \n",
      "2574.000000       19\n",
      "3367.000000       19\n",
      "2815.650000       18\n",
      "2538.000000       18\n",
      "755.000000        18\n",
      "3074.500000       18\n",
      "1855.000000       18\n",
      "905.000000        18\n",
      "1715.000000       18\n",
      "393.000000        17\n",
      "1813.000000       17\n",
      "3247.000000       17\n",
      "963.000000        16\n",
      "500.000000        16\n",
      "3547.500000       16\n",
      "510.000000        15\n",
      "3042.000000       15\n",
      "2945.250000       15\n",
      "464.000000        14\n",
      "2106.000000       13\n",
      "1774.000000       13\n",
      "2128.500000       12\n",
      "568.000000        12\n",
      "418.000000        11\n",
      "2205.000000       10\n",
      "528.000000        10\n",
      "2409.750000        9\n",
      "2695.000000        8\n",
      "2331.000000        8\n",
      "444.000000         6\n",
      "Name: realinc, Length: 597, dtype: int64\n"
     ]
    }
   ],
   "source": [
    "print(gss['realinc'].describe())\n",
    "print(gss['realinc'].value_counts())"
   ]
  },
  {
   "cell_type": "code",
   "execution_count": 152,
   "metadata": {},
   "outputs": [
    {
     "data": {
      "text/plain": [
       "count    62466.000000\n",
       "mean         1.000016\n",
       "std          0.461927\n",
       "min          0.391825\n",
       "25%          0.550100\n",
       "50%          0.988100\n",
       "75%          1.098500\n",
       "max          8.739876\n",
       "Name: wtssall, dtype: float64"
      ]
     },
     "execution_count": 152,
     "metadata": {},
     "output_type": "execute_result"
    }
   ],
   "source": [
    "gss['wtssall'].describe()"
   ]
  },
  {
   "cell_type": "markdown",
   "metadata": {},
   "source": [
    "**Exercise** \n",
    "\n",
    "1. Look through the column headings to find a few variables that look interesting.  Look them up on the GSS data explorer.  \n",
    "\n",
    "2. Use `value_counts` to see what values appear in the dataset, and compare the results with the counts in the code book.  \n",
    "\n",
    "3. Identify special values that indicate missing data and replace them with `NaN`.\n",
    "\n",
    "4. Use `describe` to compute summary statistics.  What do you notice? \n",
    "    \n",
    "    Outliers left out of the story- especially striking to me in education given the significant lack of schooling for so many people\n",
    "    \n",
    "  "
   ]
  },
  {
   "cell_type": "markdown",
   "metadata": {},
   "source": [
    "## Visualize distributions\n",
    "\n",
    "Let's visualize the distributions of the variables we've selected.\n",
    "\n",
    "Here's a Hist of the values in `educ`:"
   ]
  },
  {
   "cell_type": "code",
   "execution_count": 153,
   "metadata": {},
   "outputs": [
    {
     "data": {
      "image/png": "[encoded data removed]",
      "text/plain": [
       "<matplotlib.figure.Figure at 0x1ae2c5c73c8>"
      ]
     },
     "metadata": {},
     "output_type": "display_data"
    }
   ],
   "source": [
    "from thinkstats2 import Hist, Pmf, Cdf\n",
    "import thinkplot\n",
    "\n",
    "hist_educ = Hist(gss.educ)\n",
    "thinkplot.hist(hist_educ)\n",
    "decorate(xlabel='Years of education', \n",
    "         ylabel='Count')"
   ]
  },
  {
   "cell_type": "markdown",
   "metadata": {},
   "source": [
    "`Hist` as defined in `thinkstats2` is different from `hist` as defined in Matplotlib.  The difference is that `Hist` keeps all unique values and does not put them in bins.  Also, `hist` does not handle `NaN`.\n",
    "\n",
    "One of the hazards of using `hist` is that the shape of the result depends on the bin size.\n",
    "\n",
    "**Exercise:** \n",
    "\n",
    "1. Run the following cell and compare the result to the `Hist` above.\n",
    "\n",
    "2. Add the keyword argument `bins=11` to `plt.hist` and see how it changes the results.\n",
    "\n",
    "3. Experiment with other numbers of bins."
   ]
  },
  {
   "cell_type": "code",
   "execution_count": 154,
   "metadata": {},
   "outputs": [
    {
     "data": {
      "image/png": "[encoded data removed]",
      "text/plain": [
       "<matplotlib.figure.Figure at 0x1ae2a7c8358>"
      ]
     },
     "metadata": {},
     "output_type": "display_data"
    }
   ],
   "source": [
    "import matplotlib.pyplot as plt\n",
    "\n",
    "plt.hist(gss.educ.dropna(), bins = 5)\n",
    "decorate(xlabel='Years of education', \n",
    "         ylabel='Count')"
   ]
  },
  {
   "cell_type": "markdown",
   "metadata": {},
   "source": [
    "However, a drawback of `Hist` and `Pmf` is that they basically don't work when the number of unique values is large, as in this example:"
   ]
  },
  {
   "cell_type": "code",
   "execution_count": 155,
   "metadata": {},
   "outputs": [
    {
     "data": {
      "image/png": "[encoded data removed]",
      "text/plain": [
       "<matplotlib.figure.Figure at 0x1ae2acf7080>"
      ]
     },
     "metadata": {},
     "output_type": "display_data"
    }
   ],
   "source": [
    "hist_realinc = Hist(gss.realinc)\n",
    "thinkplot.hist(hist_realinc)\n",
    "decorate(xlabel='Real income (1986 USD)', \n",
    "         ylabel='Count')"
   ]
  },
  {
   "cell_type": "markdown",
   "metadata": {},
   "source": [
    "**Exercise:**\n",
    "    \n",
    "1. Make and plot a `Hist` of `age`.\n",
    "\n",
    "2. Make and plot a `Pmf` of `educ`.\n",
    "\n",
    "3. What fraction of people have 12, 14, and 16 years of education?"
   ]
  },
  {
   "cell_type": "code",
   "execution_count": 156,
   "metadata": {},
   "outputs": [
    {
     "data": {
      "image/png": "[encoded data removed]",
      "text/plain": [
       "<matplotlib.figure.Figure at 0x1ae2ab44a58>"
      ]
     },
     "metadata": {},
     "output_type": "display_data"
    }
   ],
   "source": [
    "# Solution goes here\n",
    "ages = Hist(gss.age)\n",
    "thinkplot.hist(ages)\n",
    "decorate(xlabel='Age', \n",
    "         ylabel='Count')"
   ]
  },
  {
   "cell_type": "code",
   "execution_count": 157,
   "metadata": {},
   "outputs": [
    {
     "data": {
      "image/png": "[encoded data removed]",
      "text/plain": [
       "<matplotlib.figure.Figure at 0x1ae2c596b70>"
      ]
     },
     "metadata": {},
     "output_type": "display_data"
    }
   ],
   "source": [
    "# Solution goes here\n",
    "plt.hist(gss.age.dropna(), bins = 10)\n",
    "decorate(xlabel='Age', \n",
    "         ylabel='Count')"
   ]
  },
  {
   "cell_type": "code",
   "execution_count": 158,
   "metadata": {},
   "outputs": [
    {
     "data": {
      "image/png": "[encoded data removed]",
      "text/plain": [
       "<matplotlib.figure.Figure at 0x1ae2c2015f8>"
      ]
     },
     "metadata": {},
     "output_type": "display_data"
    }
   ],
   "source": [
    "# Solution goes here\n",
    "edu = Pmf(gss.educ)\n",
    "thinkplot.hist(edu)\n",
    "decorate(xlabel='Years of education', \n",
    "         ylabel='Probability')"
   ]
  },
  {
   "cell_type": "code",
   "execution_count": 181,
   "metadata": {},
   "outputs": [
    {
     "name": "stdout",
     "output_type": "stream",
     "text": [
      "30.5111410775% of people have 12 years of education\n",
      "10.991780646% of people have 14 years of education\n",
      "12.7223399473% of people have 16 years of education\n"
     ]
    }
   ],
   "source": [
    "# Solution goes here\n",
    "print(str(edu[12] * 100) + \"% of people have 12 years of education\")\n",
    "print(str(edu[14] * 100) + \"% of people have 14 years of education\")\n",
    "print(str(edu[16] * 100) + \"% of people have 16 years of education\")"
   ]
  },
  {
   "cell_type": "code",
   "execution_count": 160,
   "metadata": {
    "collapsed": true
   },
   "outputs": [],
   "source": [
    "# Solution goes here"
   ]
  },
  {
   "cell_type": "markdown",
   "metadata": {},
   "source": [
    "**Exercise:**\n",
    "    \n",
    "1. Make and plot a `Cdf` of `educ`.\n",
    "\n",
    "2. What fraction of people have more than 12 years of education?"
   ]
  },
  {
   "cell_type": "code",
   "execution_count": 184,
   "metadata": {},
   "outputs": [
    {
     "data": {
      "image/png": "[encoded data removed]",
      "text/plain": [
       "<matplotlib.figure.Figure at 0x1ae2ac3ada0>"
      ]
     },
     "metadata": {},
     "output_type": "display_data"
    }
   ],
   "source": [
    "# Solution goes here\n",
    "eduCdf = Cdf(gss.educ)\n",
    "thinkplot.cdf(eduCdf)\n",
    "decorate(xlabel='Years of education', \n",
    "         ylabel='CDF')"
   ]
  },
  {
   "cell_type": "code",
   "execution_count": 183,
   "metadata": {},
   "outputs": [
    {
     "name": "stdout",
     "output_type": "stream",
     "text": [
      "46.7299171643% of people have more than 12 years of education\n"
     ]
    }
   ],
   "source": [
    "# Solution goes here\n",
    "print(str(100 - eduCdf[12.1] * 100) + '% of people have more than 12 years of education')"
   ]
  },
  {
   "cell_type": "code",
   "execution_count": 163,
   "metadata": {
    "collapsed": true
   },
   "outputs": [],
   "source": [
    "# Solution goes here"
   ]
  },
  {
   "cell_type": "markdown",
   "metadata": {},
   "source": [
    "**Exercise:**\n",
    "    \n",
    "1. Make and plot a `Cdf` of `age`.\n",
    "\n",
    "2. What is the median age?  What is the inter-quartile range (IQR)?"
   ]
  },
  {
   "cell_type": "code",
   "execution_count": 185,
   "metadata": {},
   "outputs": [
    {
     "data": {
      "image/png": "[encoded data removed]",
      "text/plain": [
       "<matplotlib.figure.Figure at 0x1ae2ac3a898>"
      ]
     },
     "metadata": {},
     "output_type": "display_data"
    }
   ],
   "source": [
    "# Solution goes here\n",
    "ageCdf = Cdf(gss.age)\n",
    "thinkplot.cdf(ageCdf)\n",
    "decorate(xlabel='Age', \n",
    "         ylabel='CDF')"
   ]
  },
  {
   "cell_type": "code",
   "execution_count": 165,
   "metadata": {},
   "outputs": [
    {
     "name": "stdout",
     "output_type": "stream",
     "text": [
      "The median age is 44.0\n"
     ]
    }
   ],
   "source": [
    "# Solution goes here\n",
    "print(\"The median age is \" + str(ageCdf.Value(.5)))"
   ]
  },
  {
   "cell_type": "code",
   "execution_count": 166,
   "metadata": {},
   "outputs": [
    {
     "name": "stdout",
     "output_type": "stream",
     "text": [
      "The IQR is 28.0\n"
     ]
    }
   ],
   "source": [
    "# Solution goes here\n",
    "iqr = ageCdf.Value(.75) - ageCdf.Value(.25)\n",
    "print(\"The IQR is \" + str(iqr))"
   ]
  },
  {
   "cell_type": "markdown",
   "metadata": {},
   "source": [
    "**Exercise:**\n",
    "\n",
    "Find another numerical variable, plot a histogram, PMF, and CDF, and compute any statistics of interest."
   ]
  },
  {
   "cell_type": "code",
   "execution_count": 186,
   "metadata": {
    "collapsed": true
   },
   "outputs": [],
   "source": [
    "# Solution goes here\n",
    "#Maternal education\n",
    "gss.maeduc.replace([97,98,99], np.nan, inplace= True)\n",
    "\n"
   ]
  },
  {
   "cell_type": "code",
   "execution_count": 187,
   "metadata": {},
   "outputs": [
    {
     "data": {
      "image/png": "[encoded data removed]",
      "text/plain": [
       "<matplotlib.figure.Figure at 0x1ae2ace4d68>"
      ]
     },
     "metadata": {},
     "output_type": "display_data"
    }
   ],
   "source": [
    "# Solution goes here\n",
    "hist = Hist(gss.maeduc)\n",
    "thinkplot.hist(hist)\n",
    "decorate(xlabel = \"Years of education (Mother)\",\n",
    "        ylabel = \"Count\")"
   ]
  },
  {
   "cell_type": "code",
   "execution_count": 169,
   "metadata": {},
   "outputs": [
    {
     "data": {
      "image/png": "[encoded data removed]",
      "text/plain": [
       "<matplotlib.figure.Figure at 0x1ae2db82198>"
      ]
     },
     "metadata": {},
     "output_type": "display_data"
    }
   ],
   "source": [
    "# Solution goes here\n",
    "pmf = Pmf(gss.maeduc)\n",
    "thinkplot.pmf(pmf)\n",
    "decorate(xlabel = \"Years of education (Mother)\",\n",
    "        ylabel = \"Probability\")"
   ]
  },
  {
   "cell_type": "code",
   "execution_count": 170,
   "metadata": {},
   "outputs": [
    {
     "data": {
      "image/png": "[encoded data removed]",
      "text/plain": [
       "<matplotlib.figure.Figure at 0x1ae28e6a048>"
      ]
     },
     "metadata": {},
     "output_type": "display_data"
    }
   ],
   "source": [
    "# Solution goes here\n",
    "cdf = Cdf(gss.maeduc)\n",
    "thinkplot.cdf(cdf)\n",
    "decorate(xlabel='Years of education (Mother)', \n",
    "         ylabel='CDF')"
   ]
  },
  {
   "cell_type": "markdown",
   "metadata": {},
   "source": [
    "**Exercise:**\n",
    "\n",
    "1. Compute the CDF of `realinc` for male and female respondents, and plot both CDFs on the same axes.\n",
    "\n",
    "2. What is the difference in median income between the two groups?"
   ]
  },
  {
   "cell_type": "code",
   "execution_count": 171,
   "metadata": {},
   "outputs": [
    {
     "data": {
      "image/png": "[encoded data removed]",
      "text/plain": [
       "<matplotlib.figure.Figure at 0x1ae2c260470>"
      ]
     },
     "metadata": {},
     "output_type": "display_data"
    },
    {
     "data": {
      "text/plain": [
       "<matplotlib.figure.Figure at 0x1ae2ab55d30>"
      ]
     },
     "metadata": {},
     "output_type": "display_data"
    }
   ],
   "source": [
    "# Solution goes here\n",
    "male = gss[gss.sex == 1]\n",
    "female = gss[gss.sex == 2]\n",
    "mcdf = Cdf(male.realinc, label = \"Male\")\n",
    "fcdf = Cdf(female.realinc, label = \"Female\")\n",
    "thinkplot.Cdfs([mcdf, fcdf])\n",
    "thinkplot.Show(xlabel='Income', ylabel='CDF')\n"
   ]
  },
  {
   "cell_type": "code",
   "execution_count": 172,
   "metadata": {},
   "outputs": [
    {
     "name": "stdout",
     "output_type": "stream",
     "text": [
      "21299.0\n",
      "26484.0\n",
      "5185.0\n"
     ]
    }
   ],
   "source": [
    "# Solution goes here\n",
    "fmedian = fcdf.Value(.5)\n",
    "mmedian = mcdf.Value(.5)\n",
    "\n",
    "#median incomes\n",
    "print(fmedian)\n",
    "print(mmedian)\n",
    "\n",
    "#difference in median incomes\n",
    "print(mmedian - fmedian)"
   ]
  },
  {
   "cell_type": "code",
   "execution_count": 173,
   "metadata": {
    "collapsed": true
   },
   "outputs": [],
   "source": [
    "# Solution goes here"
   ]
  },
  {
   "cell_type": "code",
   "execution_count": 174,
   "metadata": {
    "collapsed": true
   },
   "outputs": [],
   "source": [
    "# Solution goes here"
   ]
  },
  {
   "cell_type": "markdown",
   "metadata": {},
   "source": [
    "**Exercise:**\n",
    "\n",
    "Use a variable to break the dataset into groups and plot multiple CDFs to compare distribution of something within groups.\n",
    "\n",
    "Note: Try to find something interesting, but be cautious about overinterpreting the results.  Between any two groups, there are often many differences, with many possible causes."
   ]
  },
  {
   "cell_type": "code",
   "execution_count": 175,
   "metadata": {
    "collapsed": true
   },
   "outputs": [],
   "source": [
    "# Solution goes here\n",
    "#Separating by (likely) college education"
   ]
  },
  {
   "cell_type": "code",
   "execution_count": 176,
   "metadata": {
    "collapsed": true
   },
   "outputs": [],
   "source": [
    "# Solution goes here\n",
    "fCollege = female[female.educ >= 16]\n",
    "fOther = female[female.educ < 16]\n",
    "mCollege = male[male.educ >= 16]\n",
    "mOther = male[male.educ < 16]"
   ]
  },
  {
   "cell_type": "code",
   "execution_count": 177,
   "metadata": {},
   "outputs": [
    {
     "data": {
      "image/png": "[encoded data removed]",
      "text/plain": [
       "<matplotlib.figure.Figure at 0x1ae2be28a90>"
      ]
     },
     "metadata": {},
     "output_type": "display_data"
    },
    {
     "data": {
      "text/plain": [
       "<matplotlib.figure.Figure at 0x1ae2a54e198>"
      ]
     },
     "metadata": {},
     "output_type": "display_data"
    }
   ],
   "source": [
    "# Solution goes here\n",
    "fccdf = Cdf(fCollege.realinc, label = \"female, college\")\n",
    "focdf = Cdf(fOther.realinc, label = \"female, no college\")\n",
    "mccdf = Cdf(mCollege.realinc, label = \"male, college\")\n",
    "mocdf = Cdf(mOther.realinc, label = \"male, no college\")\n",
    "thinkplot.Cdfs([fccdf, focdf,mccdf, mocdf])\n",
    "thinkplot.Show(xlabel = 'Income', ylabel = 'CDF')"
   ]
  },
  {
   "cell_type": "code",
   "execution_count": 178,
   "metadata": {},
   "outputs": [
    {
     "name": "stdout",
     "output_type": "stream",
     "text": [
      "Median F college income: 34413.5\n",
      "Median F no college income: 18094.0\n",
      "Median M college income: 40756.5\n",
      "Median M no college income: 23310.0\n",
      "College income disparity: 6343.0\n",
      "No college income disparity: 5216.0\n",
      "Female college vs. no college gap: 16319.5\n"
     ]
    }
   ],
   "source": [
    "# Solution goes here\n",
    "print(\"Median F college income: \" + str(fccdf.Value(.5)))\n",
    "print(\"Median F no college income: \" + str(focdf.Value(.5)))\n",
    "print(\"Median M college income: \" + str(mccdf.Value(.5)))\n",
    "print(\"Median M no college income: \" + str(mocdf.Value(.5)))\n",
    "print(\"College income disparity: \" + str(mccdf.Value(.5) - fccdf.Value(.5)))\n",
    "print(\"No college income disparity: \" + str(mocdf.Value(.5) - focdf.Value(.5)))\n",
    "print(\"Female college vs. no college gap: \" + str(fccdf.Value(.5) - focdf.Value(.5)))"
   ]
  },
  {
   "cell_type": "markdown",
   "metadata": {},
   "source": [
    "## Save the cleaned data\n",
    "\n",
    "Now that we have the data in good shape, we'll save it in a binary format (HDF5), which will make it faster to load later.\n",
    "\n",
    "Also, we have to do some resampling to make the results representative.  We'll talk about this in class."
   ]
  },
  {
   "cell_type": "code",
   "execution_count": 179,
   "metadata": {
    "collapsed": true
   },
   "outputs": [],
   "source": [
    "np.random.seed(19)\n",
    "sample = utils.resample_by_year(gss, 'wtssall')"
   ]
  },
  {
   "cell_type": "markdown",
   "metadata": {},
   "source": [
    "Save the file."
   ]
  },
  {
   "cell_type": "code",
   "execution_count": 1,
   "metadata": {},
   "outputs": [
    {
     "ename": "SyntaxError",
     "evalue": "invalid syntax (<ipython-input-1-d7b34b5c5488>, line 1)",
     "output_type": "error",
     "traceback": [
      "\u001b[1;36m  File \u001b[1;32m\"<ipython-input-1-d7b34b5c5488>\"\u001b[1;36m, line \u001b[1;32m1\u001b[0m\n\u001b[1;33m    rm gss.hdf5\u001b[0m\n\u001b[1;37m         ^\u001b[0m\n\u001b[1;31mSyntaxError\u001b[0m\u001b[1;31m:\u001b[0m invalid syntax\n"
     ]
    }
   ],
   "source": [
    "!rm gss.hdf5\n",
    "sample.to_hdf('gss.hdf5', 'gss')"
   ]
  },
  {
   "cell_type": "markdown",
   "metadata": {},
   "source": [
    "Load it and see how fast it is!"
   ]
  },
  {
   "cell_type": "code",
   "execution_count": null,
   "metadata": {
    "collapsed": true
   },
   "outputs": [],
   "source": [
    "%time gss = pd.read_hdf('gss.hdf5', 'gss')\n",
    "gss.shape"
   ]
  },
  {
   "cell_type": "markdown",
   "metadata": {},
   "source": []
  },
  {
   "cell_type": "code",
   "execution_count": null,
   "metadata": {
    "collapsed": true
   },
   "outputs": [],
   "source": []
  },
  {
   "cell_type": "code",
   "execution_count": null,
   "metadata": {
    "collapsed": true
   },
   "outputs": [],
   "source": []
  }
 ],
 "metadata": {
  "kernelspec": {
   "display_name": "Python 3",
   "language": "python",
   "name": "python3"
  },
  "language_info": {
   "codemirror_mode": {
    "name": "ipython",
    "version": 3
   },
   "file_extension": ".py",
   "mimetype": "text/x-python",
   "name": "python",
   "nbconvert_exporter": "python",
   "pygments_lexer": "ipython3",
   "version": "3.6.1"
  }
 },
 "nbformat": 4,
 "nbformat_minor": 1
}
